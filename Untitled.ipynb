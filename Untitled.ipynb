{
 "cells": [
  {
   "cell_type": "markdown",
   "metadata": {},
   "source": [
    "# Test tasker"
   ]
  },
  {
   "cell_type": "code",
   "execution_count": 1,
   "metadata": {},
   "outputs": [],
   "source": [
    "from datetime import datetime\n",
    "import json\n",
    "import hashlib\n",
    "\n",
    "import redis"
   ]
  },
  {
   "cell_type": "code",
   "execution_count": 2,
   "metadata": {},
   "outputs": [],
   "source": [
    "r = redis.StrictRedis(host='localhost', port=6379, db=0)\n",
    "p = r.pubsub()"
   ]
  },
  {
   "cell_type": "code",
   "execution_count": 3,
   "metadata": {},
   "outputs": [],
   "source": [
    "p.subscribe('tasks-channel')"
   ]
  },
  {
   "cell_type": "code",
   "execution_count": 4,
   "metadata": {},
   "outputs": [
    {
     "data": {
      "text/plain": [
       "{'type': 'subscribe', 'pattern': None, 'channel': b'tasks-channel', 'data': 1}"
      ]
     },
     "execution_count": 4,
     "metadata": {},
     "output_type": "execute_result"
    }
   ],
   "source": [
    "p.get_message()"
   ]
  },
  {
   "cell_type": "code",
   "execution_count": 5,
   "metadata": {},
   "outputs": [],
   "source": [
    "def gen_id():\n",
    "    h = hashlib.md5(\n",
    "        datetime.now().strftime(\"%Y-%m-%d %H:%M:%S.%f\").encode('utf8'))\n",
    "    return h.hexdigest()"
   ]
  },
  {
   "cell_type": "code",
   "execution_count": 6,
   "metadata": {},
   "outputs": [
    {
     "ename": "NameError",
     "evalue": "name 'kkkkkk' is not defined",
     "output_type": "error",
     "traceback": [
      "\u001b[0;31m---------------------------------------------------------------------------\u001b[0m",
      "\u001b[0;31mNameError\u001b[0m                                 Traceback (most recent call last)",
      "\u001b[0;32m<ipython-input-6-0541db9d205e>\u001b[0m in \u001b[0;36m<module>\u001b[0;34m\u001b[0m\n\u001b[0;32m----> 1\u001b[0;31m \u001b[0mkkkkkk\u001b[0m\u001b[0;34m\u001b[0m\u001b[0;34m\u001b[0m\u001b[0m\n\u001b[0m",
      "\u001b[0;31mNameError\u001b[0m: name 'kkkkkk' is not defined"
     ]
    }
   ],
   "source": [
    "kkkkkk"
   ]
  },
  {
   "cell_type": "code",
   "execution_count": 7,
   "metadata": {},
   "outputs": [],
   "source": [
    "task = {\n",
    "    'id': gen_id(),\n",
    "    'cadnum': '50:26:0120401:78'\n",
    "}"
   ]
  },
  {
   "cell_type": "code",
   "execution_count": 8,
   "metadata": {},
   "outputs": [
    {
     "data": {
      "text/plain": [
       "{'id': 'd1a63c4285cb93ed6b5ebfa166d0c43a', 'cadnum': '50:26:0120401:78'}"
      ]
     },
     "execution_count": 8,
     "metadata": {},
     "output_type": "execute_result"
    }
   ],
   "source": [
    "task"
   ]
  },
  {
   "cell_type": "code",
   "execution_count": 9,
   "metadata": {},
   "outputs": [
    {
     "data": {
      "text/plain": [
       "2"
      ]
     },
     "execution_count": 9,
     "metadata": {},
     "output_type": "execute_result"
    }
   ],
   "source": [
    "r.publish('tasks-channel', json.dumps(task))"
   ]
  },
  {
   "cell_type": "code",
   "execution_count": 251,
   "metadata": {},
   "outputs": [
    {
     "data": {
      "text/plain": [
       "True"
      ]
     },
     "execution_count": 251,
     "metadata": {},
     "output_type": "execute_result"
    }
   ],
   "source": [
    "r.set('kwa', 'ket')"
   ]
  },
  {
   "cell_type": "code",
   "execution_count": 252,
   "metadata": {},
   "outputs": [
    {
     "data": {
      "text/plain": [
       "b'ket'"
      ]
     },
     "execution_count": 252,
     "metadata": {},
     "output_type": "execute_result"
    }
   ],
   "source": [
    "r.get('kwa')"
   ]
  },
  {
   "cell_type": "code",
   "execution_count": 253,
   "metadata": {},
   "outputs": [],
   "source": [
    "results = json.loads(r.get('results'))"
   ]
  },
  {
   "cell_type": "code",
   "execution_count": 233,
   "metadata": {},
   "outputs": [
    {
     "data": {
      "text/plain": [
       "{'2020-06-21 17:37:50.543027': {'id': '2020-06-21 17:37:50.543027',\n",
       "  'cadnum': '50:26:0120401:78',\n",
       "  'data': [{'Кадастровый номер': '50:26:0120401:78',\n",
       "    'Статус объекта': 'Ранее учтенный',\n",
       "    'Дата постановки на кадастровый учет': '15.09.2005',\n",
       "    'Категория земель': 'Земли сельскохозяйственного назначения',\n",
       "    'Разрешенное использование': 'Для ведения гражданами садоводства и огородничества',\n",
       "    'Площадь': '800',\n",
       "    'Единица измерения (код)': 'Квадратный метр',\n",
       "    'Кадастровая стоимость': '403880',\n",
       "    'Дата определения стоимости': '01.01.2018',\n",
       "    'Дата внесения стоимости': '16.01.2019',\n",
       "    'Адрес (местоположение)': 'обл. Московская, р-н Наро-Фоминский, с/о Атепцевский, 59,70 кв.Башкинского л-ва, снт \"Метрополитеновец\", уч-к 53',\n",
       "    'Дата обновления информации': '16.01.2019',\n",
       "    'Форма собственности': '',\n",
       "    '': ''}]},\n",
       " '2020-06-21 17:41:18.574941': {'id': '2020-06-21 17:41:18.574941',\n",
       "  'cadnum': '50:26:0120401:78',\n",
       "  'data': [{'Кадастровый номер': '50:26:0120401:78',\n",
       "    'Статус объекта': 'Ранее учтенный',\n",
       "    'Дата постановки на кадастровый учет': '15.09.2005',\n",
       "    'Категория земель': 'Земли сельскохозяйственного назначения',\n",
       "    'Разрешенное использование': 'Для ведения гражданами садоводства и огородничества',\n",
       "    'Площадь': '800',\n",
       "    'Единица измерения (код)': 'Квадратный метр',\n",
       "    'Кадастровая стоимость': '403880',\n",
       "    'Дата определения стоимости': '01.01.2018',\n",
       "    'Дата внесения стоимости': '16.01.2019',\n",
       "    'Адрес (местоположение)': 'обл. Московская, р-н Наро-Фоминский, с/о Атепцевский, 59,70 кв.Башкинского л-ва, снт \"Метрополитеновец\", уч-к 53',\n",
       "    'Дата обновления информации': '16.01.2019',\n",
       "    'Форма собственности': '',\n",
       "    '': ''}]},\n",
       " '49083e37e71561ba17c22e6e6ca6e79a': {'id': '49083e37e71561ba17c22e6e6ca6e79a',\n",
       "  'cadnum': '50:26:0120401:78',\n",
       "  'data': []},\n",
       " '282ded1b7882342c643ee64621646467': {'id': '282ded1b7882342c643ee64621646467',\n",
       "  'cadnum': '50:26:0120401:78',\n",
       "  'data': []}}"
      ]
     },
     "execution_count": 233,
     "metadata": {},
     "output_type": "execute_result"
    }
   ],
   "source": [
    "results"
   ]
  },
  {
   "cell_type": "code",
   "execution_count": 234,
   "metadata": {},
   "outputs": [
    {
     "ename": "KeyError",
     "evalue": "'e3f71e3d891de6efce3d1efba9f531b0'",
     "output_type": "error",
     "traceback": [
      "\u001b[0;31m---------------------------------------------------------------------------\u001b[0m",
      "\u001b[0;31mKeyError\u001b[0m                                  Traceback (most recent call last)",
      "\u001b[0;32m<ipython-input-234-07cfc540ea70>\u001b[0m in \u001b[0;36m<module>\u001b[0;34m\u001b[0m\n\u001b[1;32m      1\u001b[0m \u001b[0;31m# results = _get_results(r)\u001b[0m\u001b[0;34m\u001b[0m\u001b[0;34m\u001b[0m\u001b[0;34m\u001b[0m\u001b[0m\n\u001b[0;32m----> 2\u001b[0;31m \u001b[0;32mdel\u001b[0m \u001b[0mresults\u001b[0m\u001b[0;34m[\u001b[0m\u001b[0mtask\u001b[0m\u001b[0;34m[\u001b[0m\u001b[0;34m'id'\u001b[0m\u001b[0;34m]\u001b[0m\u001b[0;34m]\u001b[0m\u001b[0;34m\u001b[0m\u001b[0;34m\u001b[0m\u001b[0m\n\u001b[0m",
      "\u001b[0;31mKeyError\u001b[0m: 'e3f71e3d891de6efce3d1efba9f531b0'"
     ]
    }
   ],
   "source": [
    "# results = _get_results(r)\n",
    "del results[task['id']]"
   ]
  },
  {
   "cell_type": "code",
   "execution_count": 235,
   "metadata": {},
   "outputs": [
    {
     "data": {
      "text/plain": [
       "True"
      ]
     },
     "execution_count": 235,
     "metadata": {},
     "output_type": "execute_result"
    }
   ],
   "source": [
    "r.set('results', json.dumps(results))"
   ]
  },
  {
   "cell_type": "markdown",
   "metadata": {},
   "source": [
    "## API"
   ]
  },
  {
   "cell_type": "code",
   "execution_count": 8,
   "metadata": {},
   "outputs": [],
   "source": [
    "import requests"
   ]
  },
  {
   "cell_type": "code",
   "execution_count": 10,
   "metadata": {},
   "outputs": [],
   "source": [
    "rr = requests.get('http://localhost:6000/api/objects/50:26:0120401:78')"
   ]
  },
  {
   "cell_type": "code",
   "execution_count": 11,
   "metadata": {},
   "outputs": [
    {
     "data": {
      "text/plain": [
       "{'id': '53f324ba7ec342c6cfe0a31fde116b59',\n",
       " 'cadnum': '50:26:0120401:78',\n",
       " 'data': [{'Кадастровый номер': '50:26:0120401:78',\n",
       "   'Статус объекта': 'Ранее учтенный',\n",
       "   'Дата постановки на кадастровый учет': '15.09.2005',\n",
       "   'Категория земель': 'Земли сельскохозяйственного назначения',\n",
       "   'Разрешенное использование': 'Для ведения гражданами садоводства и огородничества',\n",
       "   'Площадь': '800',\n",
       "   'Единица измерения (код)': 'Квадратный метр',\n",
       "   'Кадастровая стоимость': '403880',\n",
       "   'Дата определения стоимости': '01.01.2018',\n",
       "   'Дата внесения стоимости': '16.01.2019',\n",
       "   'Адрес (местоположение)': 'обл. Московская, р-н Наро-Фоминский, с/о Атепцевский, 59,70 кв.Башкинского л-ва, снт \"Метрополитеновец\", уч-к 53',\n",
       "   'Дата обновления информации': '16.01.2019',\n",
       "   'Форма собственности': '',\n",
       "   '': ''}]}"
      ]
     },
     "execution_count": 11,
     "metadata": {},
     "output_type": "execute_result"
    }
   ],
   "source": [
    "rr.json()"
   ]
  },
  {
   "cell_type": "code",
   "execution_count": 221,
   "metadata": {},
   "outputs": [
    {
     "ename": "AttributeError",
     "evalue": "'Response' object has no attribute 'get'",
     "output_type": "error",
     "traceback": [
      "\u001b[0;31m---------------------------------------------------------------------------\u001b[0m",
      "\u001b[0;31mAttributeError\u001b[0m                            Traceback (most recent call last)",
      "\u001b[0;32m<ipython-input-221-578527172db3>\u001b[0m in \u001b[0;36m<module>\u001b[0;34m\u001b[0m\n\u001b[0;32m----> 1\u001b[0;31m \u001b[0mr\u001b[0m\u001b[0;34m.\u001b[0m\u001b[0mget\u001b[0m\u001b[0;34m(\u001b[0m\u001b[0;34m'results'\u001b[0m\u001b[0;34m)\u001b[0m\u001b[0;34m\u001b[0m\u001b[0;34m\u001b[0m\u001b[0m\n\u001b[0m",
      "\u001b[0;31mAttributeError\u001b[0m: 'Response' object has no attribute 'get'"
     ]
    }
   ],
   "source": [
    "r.get('results')"
   ]
  },
  {
   "cell_type": "code",
   "execution_count": null,
   "metadata": {},
   "outputs": [],
   "source": []
  }
 ],
 "metadata": {
  "kernelspec": {
   "display_name": "Python 3",
   "language": "python",
   "name": "python3"
  },
  "language_info": {
   "codemirror_mode": {
    "name": "ipython",
    "version": 3
   },
   "file_extension": ".py",
   "mimetype": "text/x-python",
   "name": "python",
   "nbconvert_exporter": "python",
   "pygments_lexer": "ipython3",
   "version": "3.7.4"
  }
 },
 "nbformat": 4,
 "nbformat_minor": 4
}
