{
 "cells": [
  {
   "cell_type": "markdown",
   "metadata": {},
   "source": [
    "# Анализ заказанных выписок"
   ]
  },
  {
   "cell_type": "markdown",
   "metadata": {},
   "source": [
    "Импортируем необходимый модули"
   ]
  },
  {
   "cell_type": "code",
   "execution_count": 75,
   "metadata": {},
   "outputs": [],
   "source": [
    "import os\n",
    "import json\n",
    "import datetime\n",
    "\n",
    "import pandas as pd\n",
    "import matplotlib.pyplot as plt"
   ]
  },
  {
   "cell_type": "markdown",
   "metadata": {},
   "source": [
    "Объявляем переменные (константы)"
   ]
  },
  {
   "cell_type": "code",
   "execution_count": 76,
   "metadata": {},
   "outputs": [],
   "source": [
    "DATA_DIR = 'data'"
   ]
  },
  {
   "cell_type": "markdown",
   "metadata": {},
   "source": [
    "## Загружаем данные"
   ]
  },
  {
   "cell_type": "code",
   "execution_count": 116,
   "metadata": {},
   "outputs": [],
   "source": [
    "data = []\n",
    "\n",
    "for filename in os.listdir(DATA_DIR):\n",
    "    data.append(json.load(open(os.path.join(DATA_DIR, filename))))"
   ]
  },
  {
   "cell_type": "code",
   "execution_count": 117,
   "metadata": {},
   "outputs": [],
   "source": [
    "data = pd.DataFrame(data)"
   ]
  },
  {
   "cell_type": "markdown",
   "metadata": {},
   "source": [
    "Оставим только интересуюшие данные"
   ]
  },
  {
   "cell_type": "code",
   "execution_count": 118,
   "metadata": {},
   "outputs": [],
   "source": [
    "data = data[['id', 'cadnum', 'foreign_id', 'inserted', 'updated', 'state', 'error_message']].copy()"
   ]
  },
  {
   "cell_type": "markdown",
   "metadata": {},
   "source": [
    "Преобразуем столбцы даты в datetime"
   ]
  },
  {
   "cell_type": "code",
   "execution_count": 119,
   "metadata": {},
   "outputs": [],
   "source": [
    "data['inserted'] = pd.to_datetime(data['inserted'])\n",
    "data['updated'] = pd.to_datetime(data['updated'])"
   ]
  },
  {
   "cell_type": "code",
   "execution_count": 120,
   "metadata": {},
   "outputs": [],
   "source": [
    "data['execution_time'] = data['updated'] - data['inserted']"
   ]
  },
  {
   "cell_type": "code",
   "execution_count": 121,
   "metadata": {},
   "outputs": [
    {
     "data": {
      "text/html": [
       "<div>\n",
       "<style scoped>\n",
       "    .dataframe tbody tr th:only-of-type {\n",
       "        vertical-align: middle;\n",
       "    }\n",
       "\n",
       "    .dataframe tbody tr th {\n",
       "        vertical-align: top;\n",
       "    }\n",
       "\n",
       "    .dataframe thead th {\n",
       "        text-align: right;\n",
       "    }\n",
       "</style>\n",
       "<table border=\"1\" class=\"dataframe\">\n",
       "  <thead>\n",
       "    <tr style=\"text-align: right;\">\n",
       "      <th></th>\n",
       "      <th>id</th>\n",
       "      <th>cadnum</th>\n",
       "      <th>foreign_id</th>\n",
       "      <th>inserted</th>\n",
       "      <th>updated</th>\n",
       "      <th>state</th>\n",
       "      <th>error_message</th>\n",
       "      <th>execution_time</th>\n",
       "    </tr>\n",
       "  </thead>\n",
       "  <tbody>\n",
       "    <tr>\n",
       "      <th>0</th>\n",
       "      <td>77</td>\n",
       "      <td>50:28:0110223:1434</td>\n",
       "      <td>80-153000553</td>\n",
       "      <td>2020-09-06 13:57:20.185641</td>\n",
       "      <td>2020-09-06 14:12:14.108840</td>\n",
       "      <td>error</td>\n",
       "      <td>NaN</td>\n",
       "      <td>0 days 00:14:53.923199</td>\n",
       "    </tr>\n",
       "    <tr>\n",
       "      <th>1</th>\n",
       "      <td>82</td>\n",
       "      <td>50:32:0080209:1183</td>\n",
       "      <td>None</td>\n",
       "      <td>2020-09-06 14:44:53.661722</td>\n",
       "      <td>2020-09-06 15:22:42.921085</td>\n",
       "      <td>error</td>\n",
       "      <td>NaN</td>\n",
       "      <td>0 days 00:37:49.259363</td>\n",
       "    </tr>\n",
       "    <tr>\n",
       "      <th>2</th>\n",
       "      <td>83</td>\n",
       "      <td>50:34:0010221:198</td>\n",
       "      <td>None</td>\n",
       "      <td>2020-09-06 14:44:53.715479</td>\n",
       "      <td>2020-09-06 15:24:39.467266</td>\n",
       "      <td>error</td>\n",
       "      <td>NaN</td>\n",
       "      <td>0 days 00:39:45.751787</td>\n",
       "    </tr>\n",
       "    <tr>\n",
       "      <th>3</th>\n",
       "      <td>76</td>\n",
       "      <td>50:07:0030307:516</td>\n",
       "      <td>None</td>\n",
       "      <td>2020-09-06 13:57:20.167561</td>\n",
       "      <td>2020-09-06 14:10:16.533836</td>\n",
       "      <td>error</td>\n",
       "      <td>NaN</td>\n",
       "      <td>0 days 00:12:56.366275</td>\n",
       "    </tr>\n",
       "    <tr>\n",
       "      <th>4</th>\n",
       "      <td>71</td>\n",
       "      <td>50:26:0110605:1103</td>\n",
       "      <td>None</td>\n",
       "      <td>2020-09-06 12:06:52.542976</td>\n",
       "      <td>2020-09-06 12:13:54.709214</td>\n",
       "      <td>error</td>\n",
       "      <td>NaN</td>\n",
       "      <td>0 days 00:07:02.166238</td>\n",
       "    </tr>\n",
       "    <tr>\n",
       "      <th>5</th>\n",
       "      <td>67</td>\n",
       "      <td>50:27:0020450:478</td>\n",
       "      <td>80-151266146</td>\n",
       "      <td>2020-08-22 22:57:31.120100</td>\n",
       "      <td>2020-08-22 23:04:58.402475</td>\n",
       "      <td>added</td>\n",
       "      <td>NaN</td>\n",
       "      <td>0 days 00:07:27.282375</td>\n",
       "    </tr>\n",
       "    <tr>\n",
       "      <th>6</th>\n",
       "      <td>66</td>\n",
       "      <td>50:31:0060253:465</td>\n",
       "      <td>None</td>\n",
       "      <td>2020-08-22 22:57:31.096490</td>\n",
       "      <td>2020-08-22 23:03:07.779225</td>\n",
       "      <td>error</td>\n",
       "      <td>NaN</td>\n",
       "      <td>0 days 00:05:36.682735</td>\n",
       "    </tr>\n",
       "    <tr>\n",
       "      <th>7</th>\n",
       "      <td>70</td>\n",
       "      <td>50:23:0020115:12756</td>\n",
       "      <td>None</td>\n",
       "      <td>2020-09-06 12:06:52.522507</td>\n",
       "      <td>2020-09-06 12:11:42.466345</td>\n",
       "      <td>error</td>\n",
       "      <td>NaN</td>\n",
       "      <td>0 days 00:04:49.943838</td>\n",
       "    </tr>\n",
       "    <tr>\n",
       "      <th>8</th>\n",
       "      <td>69</td>\n",
       "      <td>50:04:0010350:82</td>\n",
       "      <td>80-152994728</td>\n",
       "      <td>2020-09-06 12:06:52.463890</td>\n",
       "      <td>2020-09-06 12:08:14.142754</td>\n",
       "      <td>added</td>\n",
       "      <td>NaN</td>\n",
       "      <td>0 days 00:01:21.678864</td>\n",
       "    </tr>\n",
       "    <tr>\n",
       "      <th>9</th>\n",
       "      <td>65</td>\n",
       "      <td>50:08:0060319:707</td>\n",
       "      <td>None</td>\n",
       "      <td>2020-08-22 22:57:31.073431</td>\n",
       "      <td>2020-08-22 23:00:41.202022</td>\n",
       "      <td>error</td>\n",
       "      <td>NaN</td>\n",
       "      <td>0 days 00:03:10.128591</td>\n",
       "    </tr>\n",
       "    <tr>\n",
       "      <th>10</th>\n",
       "      <td>73</td>\n",
       "      <td>50:09:0020302:870</td>\n",
       "      <td>80-152995616</td>\n",
       "      <td>2020-09-06 12:06:52.601845</td>\n",
       "      <td>2020-09-06 12:25:18.664775</td>\n",
       "      <td>added</td>\n",
       "      <td>NaN</td>\n",
       "      <td>0 days 00:18:26.062930</td>\n",
       "    </tr>\n",
       "    <tr>\n",
       "      <th>11</th>\n",
       "      <td>72</td>\n",
       "      <td>50:39:0030208:379</td>\n",
       "      <td>None</td>\n",
       "      <td>2020-09-06 12:06:52.566733</td>\n",
       "      <td>2020-09-06 12:23:49.931222</td>\n",
       "      <td>error</td>\n",
       "      <td>NaN</td>\n",
       "      <td>0 days 00:16:57.364489</td>\n",
       "    </tr>\n",
       "    <tr>\n",
       "      <th>12</th>\n",
       "      <td>64</td>\n",
       "      <td>50:35:0030207:373</td>\n",
       "      <td>80-151265893</td>\n",
       "      <td>2020-08-22 22:57:31.006204</td>\n",
       "      <td>2020-08-22 22:58:56.221637</td>\n",
       "      <td>added</td>\n",
       "      <td>NaN</td>\n",
       "      <td>0 days 00:01:25.215433</td>\n",
       "    </tr>\n",
       "    <tr>\n",
       "      <th>13</th>\n",
       "      <td>68</td>\n",
       "      <td>50:04:0170210:237</td>\n",
       "      <td>None</td>\n",
       "      <td>2020-08-22 22:57:31.144345</td>\n",
       "      <td>2020-08-22 23:06:41.831153</td>\n",
       "      <td>error</td>\n",
       "      <td>NaN</td>\n",
       "      <td>0 days 00:09:10.686808</td>\n",
       "    </tr>\n",
       "    <tr>\n",
       "      <th>14</th>\n",
       "      <td>75</td>\n",
       "      <td>50:18:0090517:458</td>\n",
       "      <td>None</td>\n",
       "      <td>2020-09-06 13:57:20.146720</td>\n",
       "      <td>2020-09-06 14:08:16.100019</td>\n",
       "      <td>error</td>\n",
       "      <td>NaN</td>\n",
       "      <td>0 days 00:10:55.953299</td>\n",
       "    </tr>\n",
       "    <tr>\n",
       "      <th>15</th>\n",
       "      <td>80</td>\n",
       "      <td>50:19:0040316:92</td>\n",
       "      <td>None</td>\n",
       "      <td>2020-09-06 14:44:53.581846</td>\n",
       "      <td>2020-09-06 15:03:42.429250</td>\n",
       "      <td>error</td>\n",
       "      <td>NaN</td>\n",
       "      <td>0 days 00:18:48.847404</td>\n",
       "    </tr>\n",
       "    <tr>\n",
       "      <th>16</th>\n",
       "      <td>79</td>\n",
       "      <td>50:04:0230516:329</td>\n",
       "      <td>None</td>\n",
       "      <td>2020-09-06 14:44:53.528191</td>\n",
       "      <td>2020-09-06 14:54:17.571561</td>\n",
       "      <td>error</td>\n",
       "      <td>NaN</td>\n",
       "      <td>0 days 00:09:24.043370</td>\n",
       "    </tr>\n",
       "    <tr>\n",
       "      <th>17</th>\n",
       "      <td>78</td>\n",
       "      <td>50:13:0040308:95</td>\n",
       "      <td>None</td>\n",
       "      <td>2020-09-06 13:57:20.207406</td>\n",
       "      <td>2020-09-06 14:14:03.132066</td>\n",
       "      <td>error</td>\n",
       "      <td>NaN</td>\n",
       "      <td>0 days 00:16:42.924660</td>\n",
       "    </tr>\n",
       "    <tr>\n",
       "      <th>18</th>\n",
       "      <td>81</td>\n",
       "      <td>50:35:0030201:398</td>\n",
       "      <td>None</td>\n",
       "      <td>2020-09-06 14:44:53.621878</td>\n",
       "      <td>2020-09-06 15:13:08.193843</td>\n",
       "      <td>error</td>\n",
       "      <td>NaN</td>\n",
       "      <td>0 days 00:28:14.571965</td>\n",
       "    </tr>\n",
       "    <tr>\n",
       "      <th>19</th>\n",
       "      <td>74</td>\n",
       "      <td>50:37:0040140:231</td>\n",
       "      <td>80-152999915</td>\n",
       "      <td>2020-09-06 13:57:20.059523</td>\n",
       "      <td>2020-09-06 13:58:41.352574</td>\n",
       "      <td>error</td>\n",
       "      <td>NaN</td>\n",
       "      <td>0 days 00:01:21.293051</td>\n",
       "    </tr>\n",
       "  </tbody>\n",
       "</table>\n",
       "</div>"
      ],
      "text/plain": [
       "    id               cadnum    foreign_id                   inserted  \\\n",
       "0   77   50:28:0110223:1434  80-153000553 2020-09-06 13:57:20.185641   \n",
       "1   82   50:32:0080209:1183          None 2020-09-06 14:44:53.661722   \n",
       "2   83    50:34:0010221:198          None 2020-09-06 14:44:53.715479   \n",
       "3   76    50:07:0030307:516          None 2020-09-06 13:57:20.167561   \n",
       "4   71   50:26:0110605:1103          None 2020-09-06 12:06:52.542976   \n",
       "5   67    50:27:0020450:478  80-151266146 2020-08-22 22:57:31.120100   \n",
       "6   66    50:31:0060253:465          None 2020-08-22 22:57:31.096490   \n",
       "7   70  50:23:0020115:12756          None 2020-09-06 12:06:52.522507   \n",
       "8   69     50:04:0010350:82  80-152994728 2020-09-06 12:06:52.463890   \n",
       "9   65    50:08:0060319:707          None 2020-08-22 22:57:31.073431   \n",
       "10  73    50:09:0020302:870  80-152995616 2020-09-06 12:06:52.601845   \n",
       "11  72    50:39:0030208:379          None 2020-09-06 12:06:52.566733   \n",
       "12  64    50:35:0030207:373  80-151265893 2020-08-22 22:57:31.006204   \n",
       "13  68    50:04:0170210:237          None 2020-08-22 22:57:31.144345   \n",
       "14  75    50:18:0090517:458          None 2020-09-06 13:57:20.146720   \n",
       "15  80     50:19:0040316:92          None 2020-09-06 14:44:53.581846   \n",
       "16  79    50:04:0230516:329          None 2020-09-06 14:44:53.528191   \n",
       "17  78     50:13:0040308:95          None 2020-09-06 13:57:20.207406   \n",
       "18  81    50:35:0030201:398          None 2020-09-06 14:44:53.621878   \n",
       "19  74    50:37:0040140:231  80-152999915 2020-09-06 13:57:20.059523   \n",
       "\n",
       "                      updated  state  error_message         execution_time  \n",
       "0  2020-09-06 14:12:14.108840  error            NaN 0 days 00:14:53.923199  \n",
       "1  2020-09-06 15:22:42.921085  error            NaN 0 days 00:37:49.259363  \n",
       "2  2020-09-06 15:24:39.467266  error            NaN 0 days 00:39:45.751787  \n",
       "3  2020-09-06 14:10:16.533836  error            NaN 0 days 00:12:56.366275  \n",
       "4  2020-09-06 12:13:54.709214  error            NaN 0 days 00:07:02.166238  \n",
       "5  2020-08-22 23:04:58.402475  added            NaN 0 days 00:07:27.282375  \n",
       "6  2020-08-22 23:03:07.779225  error            NaN 0 days 00:05:36.682735  \n",
       "7  2020-09-06 12:11:42.466345  error            NaN 0 days 00:04:49.943838  \n",
       "8  2020-09-06 12:08:14.142754  added            NaN 0 days 00:01:21.678864  \n",
       "9  2020-08-22 23:00:41.202022  error            NaN 0 days 00:03:10.128591  \n",
       "10 2020-09-06 12:25:18.664775  added            NaN 0 days 00:18:26.062930  \n",
       "11 2020-09-06 12:23:49.931222  error            NaN 0 days 00:16:57.364489  \n",
       "12 2020-08-22 22:58:56.221637  added            NaN 0 days 00:01:25.215433  \n",
       "13 2020-08-22 23:06:41.831153  error            NaN 0 days 00:09:10.686808  \n",
       "14 2020-09-06 14:08:16.100019  error            NaN 0 days 00:10:55.953299  \n",
       "15 2020-09-06 15:03:42.429250  error            NaN 0 days 00:18:48.847404  \n",
       "16 2020-09-06 14:54:17.571561  error            NaN 0 days 00:09:24.043370  \n",
       "17 2020-09-06 14:14:03.132066  error            NaN 0 days 00:16:42.924660  \n",
       "18 2020-09-06 15:13:08.193843  error            NaN 0 days 00:28:14.571965  \n",
       "19 2020-09-06 13:58:41.352574  error            NaN 0 days 00:01:21.293051  "
      ]
     },
     "execution_count": 121,
     "metadata": {},
     "output_type": "execute_result"
    }
   ],
   "source": [
    "data"
   ]
  },
  {
   "cell_type": "markdown",
   "metadata": {},
   "source": [
    "## Визуализируем резултат"
   ]
  },
  {
   "cell_type": "markdown",
   "metadata": {},
   "source": [
    "### 6.09.20 16.30"
   ]
  },
  {
   "cell_type": "code",
   "execution_count": 122,
   "metadata": {},
   "outputs": [],
   "source": [
    "data1 = data[data['inserted'] < datetime.datetime(2020, 9, 6, 12, 30)]"
   ]
  },
  {
   "cell_type": "markdown",
   "metadata": {},
   "source": [
    "#### Соотношение добавленных/ошибок"
   ]
  },
  {
   "cell_type": "code",
   "execution_count": 123,
   "metadata": {},
   "outputs": [
    {
     "data": {
      "text/plain": [
       "<AxesSubplot:ylabel='state'>"
      ]
     },
     "execution_count": 123,
     "metadata": {},
     "output_type": "execute_result"
    },
    {
     "data": {
      "image/png": "[encoded data removed]",
      "text/plain": [
       "<Figure size 432x288 with 1 Axes>"
      ]
     },
     "metadata": {},
     "output_type": "display_data"
    }
   ],
   "source": [
    "data1.groupby(['state'])['state'].count().plot.pie()"
   ]
  },
  {
   "cell_type": "markdown",
   "metadata": {},
   "source": [
    "#### Время выполнения задачи"
   ]
  },
  {
   "cell_type": "markdown",
   "metadata": {},
   "source": [
    "Среднее время выполнения"
   ]
  },
  {
   "cell_type": "code",
   "execution_count": 124,
   "metadata": {},
   "outputs": [
    {
     "data": {
      "text/plain": [
       "Timedelta('0 days 00:07:32.721230100')"
      ]
     },
     "execution_count": 124,
     "metadata": {},
     "output_type": "execute_result"
    }
   ],
   "source": [
    "data1['execution_time'].sum() / len(data1)"
   ]
  },
  {
   "cell_type": "markdown",
   "metadata": {},
   "source": [
    "Максимальное время выполнения"
   ]
  },
  {
   "cell_type": "code",
   "execution_count": 125,
   "metadata": {},
   "outputs": [
    {
     "data": {
      "text/plain": [
       "Timedelta('0 days 00:18:26.062930')"
      ]
     },
     "execution_count": 125,
     "metadata": {},
     "output_type": "execute_result"
    }
   ],
   "source": [
    "data1['execution_time'].max()"
   ]
  },
  {
   "cell_type": "markdown",
   "metadata": {},
   "source": [
    "Минимальное время выполнения"
   ]
  },
  {
   "cell_type": "code",
   "execution_count": 126,
   "metadata": {},
   "outputs": [
    {
     "data": {
      "text/plain": [
       "Timedelta('0 days 00:01:21.678864')"
      ]
     },
     "execution_count": 126,
     "metadata": {},
     "output_type": "execute_result"
    }
   ],
   "source": [
    "data1['execution_time'].min()"
   ]
  },
  {
   "cell_type": "markdown",
   "metadata": {},
   "source": [
    "Распределение "
   ]
  },
  {
   "cell_type": "code",
   "execution_count": 127,
   "metadata": {},
   "outputs": [
    {
     "data": {
      "text/plain": [
       "<AxesSubplot:xlabel='execution_time'>"
      ]
     },
     "execution_count": 127,
     "metadata": {},
     "output_type": "execute_result"
    },
    {
     "data": {
      "image/png": "[encoded data removed]",
      "text/plain": [
       "<Figure size 432x288 with 1 Axes>"
      ]
     },
     "metadata": {
      "needs_background": "light"
     },
     "output_type": "display_data"
    }
   ],
   "source": [
    "data1['execution_time'].round('min').reset_index().groupby('execution_time').count().plot.bar()"
   ]
  },
  {
   "cell_type": "markdown",
   "metadata": {},
   "source": [
    "## 6.09.20 17:30"
   ]
  },
  {
   "cell_type": "code",
   "execution_count": 128,
   "metadata": {},
   "outputs": [
    {
     "data": {
      "text/html": [
       "<div>\n",
       "<style scoped>\n",
       "    .dataframe tbody tr th:only-of-type {\n",
       "        vertical-align: middle;\n",
       "    }\n",
       "\n",
       "    .dataframe tbody tr th {\n",
       "        vertical-align: top;\n",
       "    }\n",
       "\n",
       "    .dataframe thead th {\n",
       "        text-align: right;\n",
       "    }\n",
       "</style>\n",
       "<table border=\"1\" class=\"dataframe\">\n",
       "  <thead>\n",
       "    <tr style=\"text-align: right;\">\n",
       "      <th></th>\n",
       "      <th>id</th>\n",
       "      <th>cadnum</th>\n",
       "      <th>foreign_id</th>\n",
       "      <th>inserted</th>\n",
       "      <th>updated</th>\n",
       "      <th>state</th>\n",
       "      <th>error_message</th>\n",
       "      <th>execution_time</th>\n",
       "    </tr>\n",
       "  </thead>\n",
       "  <tbody>\n",
       "    <tr>\n",
       "      <th>0</th>\n",
       "      <td>77</td>\n",
       "      <td>50:28:0110223:1434</td>\n",
       "      <td>80-153000553</td>\n",
       "      <td>2020-09-06 13:57:20.185641</td>\n",
       "      <td>2020-09-06 14:12:14.108840</td>\n",
       "      <td>error</td>\n",
       "      <td>NaN</td>\n",
       "      <td>0 days 00:14:53.923199</td>\n",
       "    </tr>\n",
       "    <tr>\n",
       "      <th>3</th>\n",
       "      <td>76</td>\n",
       "      <td>50:07:0030307:516</td>\n",
       "      <td>None</td>\n",
       "      <td>2020-09-06 13:57:20.167561</td>\n",
       "      <td>2020-09-06 14:10:16.533836</td>\n",
       "      <td>error</td>\n",
       "      <td>NaN</td>\n",
       "      <td>0 days 00:12:56.366275</td>\n",
       "    </tr>\n",
       "    <tr>\n",
       "      <th>14</th>\n",
       "      <td>75</td>\n",
       "      <td>50:18:0090517:458</td>\n",
       "      <td>None</td>\n",
       "      <td>2020-09-06 13:57:20.146720</td>\n",
       "      <td>2020-09-06 14:08:16.100019</td>\n",
       "      <td>error</td>\n",
       "      <td>NaN</td>\n",
       "      <td>0 days 00:10:55.953299</td>\n",
       "    </tr>\n",
       "    <tr>\n",
       "      <th>17</th>\n",
       "      <td>78</td>\n",
       "      <td>50:13:0040308:95</td>\n",
       "      <td>None</td>\n",
       "      <td>2020-09-06 13:57:20.207406</td>\n",
       "      <td>2020-09-06 14:14:03.132066</td>\n",
       "      <td>error</td>\n",
       "      <td>NaN</td>\n",
       "      <td>0 days 00:16:42.924660</td>\n",
       "    </tr>\n",
       "    <tr>\n",
       "      <th>19</th>\n",
       "      <td>74</td>\n",
       "      <td>50:37:0040140:231</td>\n",
       "      <td>80-152999915</td>\n",
       "      <td>2020-09-06 13:57:20.059523</td>\n",
       "      <td>2020-09-06 13:58:41.352574</td>\n",
       "      <td>error</td>\n",
       "      <td>NaN</td>\n",
       "      <td>0 days 00:01:21.293051</td>\n",
       "    </tr>\n",
       "  </tbody>\n",
       "</table>\n",
       "</div>"
      ],
      "text/plain": [
       "    id              cadnum    foreign_id                   inserted  \\\n",
       "0   77  50:28:0110223:1434  80-153000553 2020-09-06 13:57:20.185641   \n",
       "3   76   50:07:0030307:516          None 2020-09-06 13:57:20.167561   \n",
       "14  75   50:18:0090517:458          None 2020-09-06 13:57:20.146720   \n",
       "17  78    50:13:0040308:95          None 2020-09-06 13:57:20.207406   \n",
       "19  74   50:37:0040140:231  80-152999915 2020-09-06 13:57:20.059523   \n",
       "\n",
       "                      updated  state  error_message         execution_time  \n",
       "0  2020-09-06 14:12:14.108840  error            NaN 0 days 00:14:53.923199  \n",
       "3  2020-09-06 14:10:16.533836  error            NaN 0 days 00:12:56.366275  \n",
       "14 2020-09-06 14:08:16.100019  error            NaN 0 days 00:10:55.953299  \n",
       "17 2020-09-06 14:14:03.132066  error            NaN 0 days 00:16:42.924660  \n",
       "19 2020-09-06 13:58:41.352574  error            NaN 0 days 00:01:21.293051  "
      ]
     },
     "execution_count": 128,
     "metadata": {},
     "output_type": "execute_result"
    }
   ],
   "source": [
    "data2 = data[(data['inserted'] > datetime.datetime(2020, 9, 6, 12, 30)) & \n",
    "             (data['inserted'] < datetime.datetime(2020, 9, 6, 13, 58))]\n",
    "data2"
   ]
  },
  {
   "cell_type": "markdown",
   "metadata": {},
   "source": [
    "**Данные data2 запускались с опечаткой в коде**"
   ]
  },
  {
   "cell_type": "markdown",
   "metadata": {},
   "source": [
    "## 6.09.20 18:30"
   ]
  },
  {
   "cell_type": "code",
   "execution_count": 132,
   "metadata": {},
   "outputs": [
    {
     "data": {
      "text/html": [
       "<div>\n",
       "<style scoped>\n",
       "    .dataframe tbody tr th:only-of-type {\n",
       "        vertical-align: middle;\n",
       "    }\n",
       "\n",
       "    .dataframe tbody tr th {\n",
       "        vertical-align: top;\n",
       "    }\n",
       "\n",
       "    .dataframe thead th {\n",
       "        text-align: right;\n",
       "    }\n",
       "</style>\n",
       "<table border=\"1\" class=\"dataframe\">\n",
       "  <thead>\n",
       "    <tr style=\"text-align: right;\">\n",
       "      <th></th>\n",
       "      <th>id</th>\n",
       "      <th>cadnum</th>\n",
       "      <th>foreign_id</th>\n",
       "      <th>inserted</th>\n",
       "      <th>updated</th>\n",
       "      <th>state</th>\n",
       "      <th>error_message</th>\n",
       "      <th>execution_time</th>\n",
       "    </tr>\n",
       "  </thead>\n",
       "  <tbody>\n",
       "    <tr>\n",
       "      <th>1</th>\n",
       "      <td>82</td>\n",
       "      <td>50:32:0080209:1183</td>\n",
       "      <td>None</td>\n",
       "      <td>2020-09-06 14:44:53.661722</td>\n",
       "      <td>2020-09-06 15:22:42.921085</td>\n",
       "      <td>error</td>\n",
       "      <td>NaN</td>\n",
       "      <td>0 days 00:37:49.259363</td>\n",
       "    </tr>\n",
       "    <tr>\n",
       "      <th>2</th>\n",
       "      <td>83</td>\n",
       "      <td>50:34:0010221:198</td>\n",
       "      <td>None</td>\n",
       "      <td>2020-09-06 14:44:53.715479</td>\n",
       "      <td>2020-09-06 15:24:39.467266</td>\n",
       "      <td>error</td>\n",
       "      <td>NaN</td>\n",
       "      <td>0 days 00:39:45.751787</td>\n",
       "    </tr>\n",
       "    <tr>\n",
       "      <th>15</th>\n",
       "      <td>80</td>\n",
       "      <td>50:19:0040316:92</td>\n",
       "      <td>None</td>\n",
       "      <td>2020-09-06 14:44:53.581846</td>\n",
       "      <td>2020-09-06 15:03:42.429250</td>\n",
       "      <td>error</td>\n",
       "      <td>NaN</td>\n",
       "      <td>0 days 00:18:48.847404</td>\n",
       "    </tr>\n",
       "    <tr>\n",
       "      <th>16</th>\n",
       "      <td>79</td>\n",
       "      <td>50:04:0230516:329</td>\n",
       "      <td>None</td>\n",
       "      <td>2020-09-06 14:44:53.528191</td>\n",
       "      <td>2020-09-06 14:54:17.571561</td>\n",
       "      <td>error</td>\n",
       "      <td>NaN</td>\n",
       "      <td>0 days 00:09:24.043370</td>\n",
       "    </tr>\n",
       "    <tr>\n",
       "      <th>18</th>\n",
       "      <td>81</td>\n",
       "      <td>50:35:0030201:398</td>\n",
       "      <td>None</td>\n",
       "      <td>2020-09-06 14:44:53.621878</td>\n",
       "      <td>2020-09-06 15:13:08.193843</td>\n",
       "      <td>error</td>\n",
       "      <td>NaN</td>\n",
       "      <td>0 days 00:28:14.571965</td>\n",
       "    </tr>\n",
       "  </tbody>\n",
       "</table>\n",
       "</div>"
      ],
      "text/plain": [
       "    id              cadnum foreign_id                   inserted  \\\n",
       "1   82  50:32:0080209:1183       None 2020-09-06 14:44:53.661722   \n",
       "2   83   50:34:0010221:198       None 2020-09-06 14:44:53.715479   \n",
       "15  80    50:19:0040316:92       None 2020-09-06 14:44:53.581846   \n",
       "16  79   50:04:0230516:329       None 2020-09-06 14:44:53.528191   \n",
       "18  81   50:35:0030201:398       None 2020-09-06 14:44:53.621878   \n",
       "\n",
       "                      updated  state  error_message         execution_time  \n",
       "1  2020-09-06 15:22:42.921085  error            NaN 0 days 00:37:49.259363  \n",
       "2  2020-09-06 15:24:39.467266  error            NaN 0 days 00:39:45.751787  \n",
       "15 2020-09-06 15:03:42.429250  error            NaN 0 days 00:18:48.847404  \n",
       "16 2020-09-06 14:54:17.571561  error            NaN 0 days 00:09:24.043370  \n",
       "18 2020-09-06 15:13:08.193843  error            NaN 0 days 00:28:14.571965  "
      ]
     },
     "execution_count": 132,
     "metadata": {},
     "output_type": "execute_result"
    }
   ],
   "source": [
    "data3 = data[(data['inserted'] > datetime.datetime(2020, 9, 6, 13, 58)) & \n",
    "             (data['inserted'] < datetime.datetime(2020, 9, 6, 15, 30))]\n",
    "data3"
   ]
  },
  {
   "cell_type": "code",
   "execution_count": null,
   "metadata": {},
   "outputs": [],
   "source": []
  }
 ],
 "metadata": {
  "kernelspec": {
   "display_name": "Python 3",
   "language": "python",
   "name": "python3"
  },
  "language_info": {
   "codemirror_mode": {
    "name": "ipython",
    "version": 3
   },
   "file_extension": ".py",
   "mimetype": "text/x-python",
   "name": "python",
   "nbconvert_exporter": "python",
   "pygments_lexer": "ipython3",
   "version": "3.8.3"
  }
 },
 "nbformat": 4,
 "nbformat_minor": 4
}
